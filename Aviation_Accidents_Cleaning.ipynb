{
 "cells": [
  {
   "cell_type": "markdown",
   "id": "d7485d62",
   "metadata": {},
   "source": [
    "# Aviation Accidents Analysis\n",
    "\n",
    "You are part of a consulting firm that is tasked to do an analysis of commercial and passenger jet airline safety. The client (an airline/airplane insurer) is interested in knowing what types of aircraft (makes/models) exhibit low rates of total destruction and low likelihood of fatal or serious passenger injuries in the event of an accident. They are also interested in any general variables/conditions that might be at play. Your analysis will be based off of aviation accident data accumulated from the years 1948-2023. \n",
    "\n",
    "Our client is only interested in airplane makes/models that are professional builds and could potentially still be active. Assume a max lifetime of 40 years for a make/model retirement and make sure to filter your data accordingly (i.e. from 1983 onwards). They would also like separate recommendations for small aircraft vs. larger passenger models. **In addition, make sure that claims that you make are statistically robust and that you have enough samples when making comparisons between groups.**\n",
    "\n",
    "\n",
    "In this summative assessment you will demonstrate your ability to:\n",
    "- **Use Pandas to load, inspect, and clean the dataset appropriately.**\n",
    "- **Transform relevant columns to create measures that address the problem at hand.**\n",
    "- conduct EDA: visualization and statistical measures to systematically understand the structure of the data\n",
    "- recommend a set of airplanes and makes conforming to the client's request and identify at least *two* factors contributing to airplane safety. You must provide supporting evidence (visuals, summary statistics, tables) for each claim you make."
   ]
  },
  {
   "cell_type": "markdown",
   "id": "73e582c5",
   "metadata": {},
   "source": [
    "### Make relevant library imports"
   ]
  },
  {
   "cell_type": "code",
   "execution_count": 2,
   "id": "a72188a8",
   "metadata": {},
   "outputs": [],
   "source": [
    "import pandas as pd\n",
    "import numpy as np\n",
    "import matplotlib.pyplot as plt\n",
    "import seaborn as sns"
   ]
  },
  {
   "cell_type": "markdown",
   "id": "5b1fc321",
   "metadata": {},
   "source": [
    "## Data Loading and Inspection"
   ]
  },
  {
   "cell_type": "markdown",
   "id": "57becc28",
   "metadata": {},
   "source": [
    "### Load in data from the relevant directory and inspect the dataframe.\n",
    "- inspect NaNs, datatypes, and summary statistics"
   ]
  },
  {
   "cell_type": "code",
   "execution_count": 5,
   "id": "85235fa7",
   "metadata": {},
   "outputs": [
    {
     "name": "stderr",
     "output_type": "stream",
     "text": [
      "C:\\Users\\sushm\\AppData\\Local\\Temp\\ipykernel_51812\\3191210931.py:1: DtypeWarning: Columns (6,7,28) have mixed types. Specify dtype option on import or set low_memory=False.\n",
      "  df = pd.read_csv(\"C:/Users/sushm/OneDrive/Desktop/Data_Flatiron/final_lab/dsc-course0-m8-lab/AviationData.csv\", encoding='ISO-8859-1')\n"
     ]
    }
   ],
   "source": [
    "df = pd.read_csv(\"C:/Users/sushm/OneDrive/Desktop/Data_Flatiron/final_lab/dsc-course0-m8-lab/AviationData.csv\", encoding='ISO-8859-1')"
   ]
  },
  {
   "cell_type": "code",
   "execution_count": 6,
   "id": "60f0800e-0d60-4912-b36b-be6dc4bf3ac9",
   "metadata": {},
   "outputs": [
    {
     "name": "stdout",
     "output_type": "stream",
     "text": [
      "NaN (missing value) count per column:\n",
      " Event.Id                      0\n",
      "Investigation.Type            0\n",
      "Accident.Number               0\n",
      "Event.Date                    0\n",
      "Location                     52\n",
      "Country                     226\n",
      "Latitude                  54507\n",
      "Longitude                 54516\n",
      "Airport.Code              38757\n",
      "Airport.Name              36185\n",
      "Injury.Severity            1000\n",
      "Aircraft.damage            3194\n",
      "Aircraft.Category         56602\n",
      "Registration.Number        1382\n",
      "Make                         63\n",
      "Model                        92\n",
      "Amateur.Built               102\n",
      "Number.of.Engines          6084\n",
      "Engine.Type                7096\n",
      "FAR.Description           56866\n",
      "Schedule                  76307\n",
      "Purpose.of.flight          6192\n",
      "Air.carrier               72241\n",
      "Total.Fatal.Injuries      11401\n",
      "Total.Serious.Injuries    12510\n",
      "Total.Minor.Injuries      11933\n",
      "Total.Uninjured            5912\n",
      "Weather.Condition          4492\n",
      "Broad.phase.of.flight     27165\n",
      "Report.Status              6384\n",
      "Publication.Date          13771\n",
      "dtype: int64\n"
     ]
    }
   ],
   "source": [
    "nan_summary = df.isnull().sum()\n",
    "print(\"NaN (missing value) count per column:\\n\", nan_summary)\n"
   ]
  },
  {
   "cell_type": "code",
   "execution_count": 7,
   "id": "2ba40502-8561-4a83-8fd5-d5b089a52a2a",
   "metadata": {},
   "outputs": [
    {
     "name": "stdout",
     "output_type": "stream",
     "text": [
      "\n",
      "Data types of each column:\n",
      " Event.Id                   object\n",
      "Investigation.Type         object\n",
      "Accident.Number            object\n",
      "Event.Date                 object\n",
      "Location                   object\n",
      "Country                    object\n",
      "Latitude                   object\n",
      "Longitude                  object\n",
      "Airport.Code               object\n",
      "Airport.Name               object\n",
      "Injury.Severity            object\n",
      "Aircraft.damage            object\n",
      "Aircraft.Category          object\n",
      "Registration.Number        object\n",
      "Make                       object\n",
      "Model                      object\n",
      "Amateur.Built              object\n",
      "Number.of.Engines         float64\n",
      "Engine.Type                object\n",
      "FAR.Description            object\n",
      "Schedule                   object\n",
      "Purpose.of.flight          object\n",
      "Air.carrier                object\n",
      "Total.Fatal.Injuries      float64\n",
      "Total.Serious.Injuries    float64\n",
      "Total.Minor.Injuries      float64\n",
      "Total.Uninjured           float64\n",
      "Weather.Condition          object\n",
      "Broad.phase.of.flight      object\n",
      "Report.Status              object\n",
      "Publication.Date           object\n",
      "dtype: object\n"
     ]
    }
   ],
   "source": [
    "datatype_summary = df.dtypes\n",
    "print(\"\\nData types of each column:\\n\", datatype_summary)"
   ]
  },
  {
   "cell_type": "code",
   "execution_count": 8,
   "id": "859b08b8-a256-4638-8275-c3da1f91927c",
   "metadata": {},
   "outputs": [
    {
     "name": "stdout",
     "output_type": "stream",
     "text": [
      "\n",
      "Summary statistics for numeric columns:\n",
      "        Number.of.Engines  Total.Fatal.Injuries  Total.Serious.Injuries  \\\n",
      "count       82805.000000          77488.000000            76379.000000   \n",
      "mean            1.146585              0.647855                0.279881   \n",
      "std             0.446510              5.485960                1.544084   \n",
      "min             0.000000              0.000000                0.000000   \n",
      "25%             1.000000              0.000000                0.000000   \n",
      "50%             1.000000              0.000000                0.000000   \n",
      "75%             1.000000              0.000000                0.000000   \n",
      "max             8.000000            349.000000              161.000000   \n",
      "\n",
      "       Total.Minor.Injuries  Total.Uninjured  \n",
      "count          76956.000000     82977.000000  \n",
      "mean               0.357061         5.325440  \n",
      "std                2.235625        27.913634  \n",
      "min                0.000000         0.000000  \n",
      "25%                0.000000         0.000000  \n",
      "50%                0.000000         1.000000  \n",
      "75%                0.000000         2.000000  \n",
      "max              380.000000       699.000000  \n"
     ]
    }
   ],
   "source": [
    "summary_stats = df.describe()\n",
    "print(\"\\nSummary statistics for numeric columns:\\n\", summary_stats)"
   ]
  },
  {
   "cell_type": "code",
   "execution_count": 9,
   "id": "811d6c0e-fd98-41ff-81e1-50c6f7880781",
   "metadata": {},
   "outputs": [
    {
     "name": "stdout",
     "output_type": "stream",
     "text": [
      "\n",
      "Summary statistics for object (string) columns:\n",
      "               Event.Id Investigation.Type Accident.Number  Event.Date  \\\n",
      "count            88889              88889           88889       88889   \n",
      "unique           87951                  2           88863       14782   \n",
      "top     20001212X19172           Accident      CEN22LA149  1984-06-30   \n",
      "freq                 3              85015               2          25   \n",
      "\n",
      "             Location        Country Latitude Longitude Airport.Code  \\\n",
      "count           88837          88663    34382     34373        50132   \n",
      "unique          27758            219    25592     27156        10374   \n",
      "top     ANCHORAGE, AK  United States  332739N  0112457W         NONE   \n",
      "freq              434          82248       19        24         1488   \n",
      "\n",
      "       Airport.Name  ... Amateur.Built    Engine.Type FAR.Description  \\\n",
      "count         52704  ...         88787          81793           32023   \n",
      "unique        24870  ...             2             12              31   \n",
      "top         Private  ...            No  Reciprocating             091   \n",
      "freq            240  ...         80312          69530           18221   \n",
      "\n",
      "       Schedule Purpose.of.flight Air.carrier Weather.Condition  \\\n",
      "count     12582             82697       16648             84397   \n",
      "unique        3                26       13590                 4   \n",
      "top        NSCH          Personal       Pilot               VMC   \n",
      "freq       4474             49448         258             77303   \n",
      "\n",
      "       Broad.phase.of.flight   Report.Status Publication.Date  \n",
      "count                  61724           82505            75118  \n",
      "unique                    12           17074             2924  \n",
      "top                  Landing  Probable Cause       25-09-2020  \n",
      "freq                   15428           61754            17019  \n",
      "\n",
      "[4 rows x 26 columns]\n"
     ]
    }
   ],
   "source": [
    "summary_stats_object = df.describe(include=['object'])\n",
    "print(\"\\nSummary statistics for object (string) columns:\\n\", summary_stats_object)"
   ]
  },
  {
   "cell_type": "markdown",
   "id": "2e9b8cc7",
   "metadata": {},
   "source": [
    "## Data Cleaning"
   ]
  },
  {
   "cell_type": "markdown",
   "id": "c23efd78",
   "metadata": {},
   "source": [
    "### Filtering aircrafts and events"
   ]
  },
  {
   "cell_type": "markdown",
   "id": "9c399343",
   "metadata": {},
   "source": [
    "We want to filter the dataset to include aircraft that the client is interested in an analysis of:\n",
    "- inspect relevant columns\n",
    "- figure out any reasonable imputations\n",
    "- filter the dataset"
   ]
  },
  {
   "cell_type": "code",
   "execution_count": 10,
   "id": "5a2b7eab",
   "metadata": {},
   "outputs": [
    {
     "name": "stdout",
     "output_type": "stream",
     "text": [
      "\n",
      "Unique Makes: 8237\n",
      "Year/Date columns: ['Event.Date', 'Publication.Date']\n"
     ]
    }
   ],
   "source": [
    "print(\"\\nUnique Makes:\", df['Make'].nunique())\n",
    "print(\"Year/Date columns:\", [col for col in df.columns if 'year' in col.lower() or 'date' in col.lower()])"
   ]
  },
  {
   "cell_type": "code",
   "execution_count": 11,
   "id": "81b22c1b-ffdc-4dcf-b8d7-4440a1e288b4",
   "metadata": {},
   "outputs": [],
   "source": [
    "if 'Year' in df.columns:\n",
    "    df['Year'] = pd.to_numeric(df['Year'], errors='coerce')\n",
    "elif 'Event.Date' in df.columns:\n",
    "    df['Year'] = pd.to_datetime(df['Event.Date'], errors='coerce').dt.year\n",
    "df = df[df['Year'] >= 1983]"
   ]
  },
  {
   "cell_type": "code",
   "execution_count": 12,
   "id": "b3adf2f5-e02d-40bb-b218-a507dfc01d6f",
   "metadata": {},
   "outputs": [],
   "source": [
    "injury_cols = ['Total.Fatal.Injuries', 'Total.Serious.Injuries', 'Total.Minor.Injuries', 'Total.Uninjured', 'Total.Occupants']\n",
    "for col in injury_cols:\n",
    "    if col in df.columns:\n",
    "        df[col] = pd.to_numeric(df[col], errors='coerce').fillna(0)"
   ]
  },
  {
   "cell_type": "markdown",
   "id": "36d26002",
   "metadata": {},
   "source": [
    "### Cleaning and constructing Key Measurables\n",
    "\n",
    "Injuries and robustness to destruction are a key interest point for the client. Clean and impute relevant columns and then create derived fields that best quantifies what the client wishes to track. **Use commenting or markdown to explain any cleaning assumptions as well as any derived columns you create.**"
   ]
  },
  {
   "cell_type": "markdown",
   "id": "070b08f8",
   "metadata": {},
   "source": [
    "**Construct metric for fatal/serious injuries**\n",
    "\n",
    "*Hint:* Estimate the total number of passengers on each flight. The likelihood of serious / fatal injury can be estimated as a fraction from this."
   ]
  },
  {
   "cell_type": "code",
   "execution_count": 13,
   "id": "ef28a6d4",
   "metadata": {},
   "outputs": [],
   "source": [
    "if 'Total.Occupants' not in df.columns and all(col in df.columns for col in ['Total.Fatal.Injuries', 'Total.Serious.Injuries', 'Total.Minor.Injuries', 'Total.Uninjured']):\n",
    "    df['Total.Occupants'] = df['Total.Fatal.Injuries'] + df['Total.Serious.Injuries'] + df['Total.Minor.Injuries'] + df['Total.Uninjured']"
   ]
  },
  {
   "cell_type": "code",
   "execution_count": 48,
   "id": "6033d88b-9477-444f-92a1-49849fa88fa2",
   "metadata": {},
   "outputs": [],
   "source": [
    "df['Frac.Fatal.Serious'] = 0.0  # Make column float from the start\n",
    "mask = df['Total.Occupants'] > 0\n",
    "df.loc[mask, 'Frac.Fatal.Serious'] = (\n",
    "    df.loc[mask, 'Total.Fatal.Injuries'] + df.loc[mask, 'Total.Serious.Injuries']\n",
    ") / df.loc[mask, 'Total.Occupants']"
   ]
  },
  {
   "cell_type": "code",
   "execution_count": null,
   "id": "4aa78455-a26c-4aec-83a1-af8ae0529187",
   "metadata": {},
   "outputs": [],
   "source": []
  },
  {
   "cell_type": "markdown",
   "id": "6c89136b",
   "metadata": {},
   "source": [
    "**Aircraft.Damage**\n",
    "- identify and execute any cleaning tasks\n",
    "- construct a derived column tracking whether an aircraft was destroyed or not."
   ]
  },
  {
   "cell_type": "code",
   "execution_count": 49,
   "id": "91b518b1",
   "metadata": {
    "scrolled": true
   },
   "outputs": [
    {
     "name": "stdout",
     "output_type": "stream",
     "text": [
      "Index(['Event.Id', 'Investigation.Type', 'Accident.Number', 'Event.Date',\n",
      "       'Location', 'Country', 'Latitude', 'Longitude', 'Airport.Code',\n",
      "       'Airport.Name', 'Injury.Severity', 'Aircraft.damage',\n",
      "       'Aircraft.Category', 'Registration.Number', 'Make', 'Model',\n",
      "       'Amateur.Built', 'Number.of.Engines', 'Engine.Type', 'FAR.Description',\n",
      "       'Purpose.of.flight', 'Total.Fatal.Injuries', 'Total.Serious.Injuries',\n",
      "       'Total.Minor.Injuries', 'Total.Uninjured', 'Weather.Condition',\n",
      "       'Broad.phase.of.flight', 'Report.Status', 'Publication.Date', 'Year',\n",
      "       'Total.Occupants', 'Frac.Fatal.Serious', 'damage', 'Engine_type'],\n",
      "      dtype='object')\n"
     ]
    }
   ],
   "source": [
    "print(df.columns)\n"
   ]
  },
  {
   "cell_type": "code",
   "execution_count": 50,
   "id": "e7fedbdd-be91-4970-8aef-999e35928f31",
   "metadata": {},
   "outputs": [],
   "source": [
    "df.columns = df.columns.str.strip()\n",
    "df['damage'] = df['Aircraft.damage'].str.strip().str.title()"
   ]
  },
  {
   "cell_type": "markdown",
   "id": "e9d8af9b",
   "metadata": {},
   "source": [
    "### Investigate the *Make* column\n",
    "- Identify cleaning tasks here\n",
    "- List cleaning tasks clearly in markdown\n",
    "- Execute the cleaning tasks\n",
    "- For your analysis, keep Makes with a reasonable number (you can put the threshold at 50 though lower could work as well)"
   ]
  },
  {
   "cell_type": "code",
   "execution_count": 51,
   "id": "cf9005cf",
   "metadata": {},
   "outputs": [
    {
     "name": "stdout",
     "output_type": "stream",
     "text": [
      "\n",
      "Top 20 Makes:\n",
      " Make\n",
      "CESSNA               25814\n",
      "PIPER                14142\n",
      "BEECH                 5109\n",
      "BOEING                2696\n",
      "BELL                  2610\n",
      "MOONEY                1278\n",
      "ROBINSON              1207\n",
      "GRUMMAN               1068\n",
      "BELLANCA               983\n",
      "HUGHES                 879\n",
      "SCHWEIZER              756\n",
      "AIR TRACTOR            673\n",
      "AERONCA                607\n",
      "MCDONNELL DOUGLAS      603\n",
      "MAULE                  572\n",
      "CHAMPION               507\n",
      "STINSON                421\n",
      "AERO COMMANDER         412\n",
      "DE HAVILLAND           407\n",
      "LUSCOMBE               391\n",
      "Name: count, dtype: int64\n"
     ]
    }
   ],
   "source": [
    "print(\"\\nTop 20 Makes:\\n\", df['Make'].value_counts().head(20))"
   ]
  },
  {
   "cell_type": "markdown",
   "id": "6ed9f3c2",
   "metadata": {},
   "source": [
    "### Inspect Model column\n",
    "- Get rid of any NaNs.\n",
    "- Inspect the column and counts for each model/make. Are model labels unique to each make?\n",
    "- If not, create a derived column that is a unique identifier for a given plane type."
   ]
  },
  {
   "cell_type": "code",
   "execution_count": 52,
   "id": "05f20594",
   "metadata": {},
   "outputs": [],
   "source": [
    "df['Make'] = df['Make'].str.strip().str.upper().fillna('UNKNOWN')\n",
    "\n"
   ]
  },
  {
   "cell_type": "code",
   "execution_count": 53,
   "id": "a1309d5d-dfc3-4fa4-a5ca-42d26e68ceb8",
   "metadata": {},
   "outputs": [],
   "source": [
    "# Filtering: Keep makes with >= 50 accidents in this period\n",
    "make_counts = df['Make'].value_counts()\n",
    "valid_makes = make_counts[make_counts >= 50].index\n",
    "df = df[df['Make'].isin(valid_makes)]\n"
   ]
  },
  {
   "cell_type": "code",
   "execution_count": 54,
   "id": "c035aa22-9560-4995-a488-f984816b3d30",
   "metadata": {},
   "outputs": [
    {
     "name": "stdout",
     "output_type": "stream",
     "text": [
      "\n",
      "Number of unique Models: 6310\n",
      "Model\n",
      "152          2231\n",
      "172          1654\n",
      "172N         1096\n",
      "PA-28-140     869\n",
      "172M          760\n",
      "150           752\n",
      "172P          665\n",
      "182           618\n",
      "180           596\n",
      "150M          553\n",
      "PA-18         550\n",
      "PA-18-150     550\n",
      "PA-28-180     548\n",
      "PA-28-161     526\n",
      "PA-28-181     509\n",
      "737           489\n",
      "206B          488\n",
      "150L          436\n",
      "A36           428\n",
      "PA-38-112     426\n",
      "Name: count, dtype: int64\n"
     ]
    }
   ],
   "source": [
    "# --- Inspect Model column ---\n",
    "print(\"\\nNumber of unique Models:\", df['Model'].nunique())\n",
    "print(df['Model'].value_counts().head(20))"
   ]
  },
  {
   "cell_type": "markdown",
   "id": "9a173ebd",
   "metadata": {},
   "source": [
    "### Cleaning other columns\n",
    "- there are other columns containing data that might be related to the outcome of an accident. We list a few here:\n",
    "- Engine.Type\n",
    "- Weather.Condition\n",
    "- Number.of.Engines\n",
    "- Purpose.of.flight\n",
    "- Broad.phase.of.flight\n",
    "\n",
    "Inspect and identify potential cleaning tasks in each of the above columns. Execute those cleaning tasks. \n",
    "\n",
    "**Note**: You do not necessarily need to impute or drop NaNs here."
   ]
  },
  {
   "cell_type": "code",
   "execution_count": 55,
   "id": "01df492e",
   "metadata": {},
   "outputs": [],
   "source": [
    "# Engine.Type\n",
    "df.loc[:, 'Engine_type'] = df['Engine.Type'].str.strip().str.upper().fillna('UNKNOWN')"
   ]
  },
  {
   "cell_type": "code",
   "execution_count": 56,
   "id": "12149cab-a498-49a9-abd5-cb25066255c7",
   "metadata": {},
   "outputs": [],
   "source": [
    "# Weather.Condition\n",
    "df.loc[:, 'Weather.Condition'] = df['Weather.Condition'].str.strip().str.upper().fillna('UNKNOWN')\n"
   ]
  },
  {
   "cell_type": "code",
   "execution_count": 57,
   "id": "29f9d0de-cacb-4ded-af0d-0065ecb2b3dc",
   "metadata": {},
   "outputs": [],
   "source": [
    "# Number.of.Engines\n",
    "df.loc[:, 'Number.of.Engines'] = pd.to_numeric(df['Number.of.Engines'], errors='coerce').astype('Int64')"
   ]
  },
  {
   "cell_type": "code",
   "execution_count": 58,
   "id": "9fb84985-d8dd-48a2-afee-f65c81ccf7ee",
   "metadata": {},
   "outputs": [],
   "source": [
    "# Purpose.of.flight\n",
    "df.loc[:, 'Purpose.of.flight'] = df['Purpose.of.flight'].str.strip().str.upper().fillna('UNKNOWN')"
   ]
  },
  {
   "cell_type": "code",
   "execution_count": 59,
   "id": "bff27dc7-f1e1-4db1-ab41-028305368e4c",
   "metadata": {},
   "outputs": [],
   "source": [
    "# Broad.phase.of.flight\n",
    "df.loc[:, 'Broad.phase.of.flight'] = df['Broad.phase.of.flight'].str.strip().str.upper().fillna('UNKNOWN')"
   ]
  },
  {
   "cell_type": "markdown",
   "id": "12ad63d9",
   "metadata": {},
   "source": [
    "### Column Removal\n",
    "- inspect the dataframe and drop any columns that have too many NaNs"
   ]
  },
  {
   "cell_type": "code",
   "execution_count": 60,
   "id": "f661bb21",
   "metadata": {},
   "outputs": [
    {
     "name": "stdout",
     "output_type": "stream",
     "text": [
      "\n",
      "Dropping 0 columns with >70% NaNs: []\n"
     ]
    }
   ],
   "source": [
    "# Drop columns with >70% NaNs\n",
    "threshold = 0.7\n",
    "na_frac = df.isna().mean()\n",
    "drop_cols = na_frac[na_frac > threshold].index\n",
    "print(f\"\\nDropping {len(drop_cols)} columns with >70% NaNs:\", list(drop_cols))\n",
    "df = df.drop(columns=drop_cols)\n"
   ]
  },
  {
   "cell_type": "markdown",
   "id": "750d48f1",
   "metadata": {},
   "source": [
    "### Save DataFrame to csv\n",
    "- its generally useful to save data to file/server after its in a sufficiently cleaned or intermediate state\n",
    "- the data can then be loaded directly in another notebook for further analysis\n",
    "- this helps keep your notebooks and workflow readable, clean and modularized"
   ]
  },
  {
   "cell_type": "code",
   "execution_count": 61,
   "id": "b425a512",
   "metadata": {},
   "outputs": [],
   "source": [
    "df.to_csv('C:/Users/sushm/OneDrive/Desktop/Data_Flatiron/final_lab/dsc-course0-m8-lab/data/aviation_accidents_cleaned.csv', index=False)"
   ]
  },
  {
   "cell_type": "code",
   "execution_count": 62,
   "id": "7e488509-6b27-4dd7-bb4d-1d3fdf83c9d5",
   "metadata": {},
   "outputs": [
    {
     "name": "stdout",
     "output_type": "stream",
     "text": [
      "Saved cleaned dataframe to 'C:/Users/sushm/OneDrive/Desktop/Data_Flatiron/final_lab/dsc-course0-m8-lab/data/aviation_accidents_cleaned.csv'\n"
     ]
    }
   ],
   "source": [
    "print(\"Saved cleaned dataframe to 'C:/Users/sushm/OneDrive/Desktop/Data_Flatiron/final_lab/dsc-course0-m8-lab/data/aviation_accidents_cleaned.csv'\")"
   ]
  },
  {
   "cell_type": "code",
   "execution_count": null,
   "id": "42a4fb27-b540-4eeb-9c04-26017c584764",
   "metadata": {},
   "outputs": [],
   "source": []
  }
 ],
 "metadata": {
  "kernelspec": {
   "display_name": "Python [conda env:base] *",
   "language": "python",
   "name": "conda-base-py"
  },
  "language_info": {
   "codemirror_mode": {
    "name": "ipython",
    "version": 3
   },
   "file_extension": ".py",
   "mimetype": "text/x-python",
   "name": "python",
   "nbconvert_exporter": "python",
   "pygments_lexer": "ipython3",
   "version": "3.12.7"
  }
 },
 "nbformat": 4,
 "nbformat_minor": 5
}
